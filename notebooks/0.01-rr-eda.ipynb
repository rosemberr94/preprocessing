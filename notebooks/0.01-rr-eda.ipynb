{
 "cells": [
  {
   "metadata": {
    "ExecuteTime": {
     "end_time": "2025-05-10T19:29:10.825962Z",
     "start_time": "2025-05-10T19:29:10.816977Z"
    }
   },
   "cell_type": "code",
   "source": [
    "%load_ext autoreload\n",
    "%autoreload 2"
   ],
   "id": "6b29a4d820793b7d",
   "outputs": [
    {
     "name": "stdout",
     "output_type": "stream",
     "text": [
      "The autoreload extension is already loaded. To reload it, use:\n",
      "  %reload_ext autoreload\n"
     ]
    }
   ],
   "execution_count": 7
  },
  {
   "metadata": {
    "ExecuteTime": {
     "end_time": "2025-05-10T19:24:25.806567Z",
     "start_time": "2025-05-10T19:24:21.370524Z"
    }
   },
   "cell_type": "code",
   "source": "import pandas as pd",
   "id": "624c73ab999e0624",
   "outputs": [],
   "execution_count": 2
  },
  {
   "metadata": {},
   "cell_type": "code",
   "outputs": [],
   "execution_count": null,
   "source": "import",
   "id": "48ec5ec91f37cc10"
  },
  {
   "metadata": {},
   "cell_type": "markdown",
   "source": "# DATA",
   "id": "44ce3aa00d900116"
  },
  {
   "metadata": {},
   "cell_type": "code",
   "outputs": [],
   "execution_count": null,
   "source": "",
   "id": "3297f5535061896b"
  }
 ],
 "metadata": {},
 "nbformat": 4,
 "nbformat_minor": 5
}
